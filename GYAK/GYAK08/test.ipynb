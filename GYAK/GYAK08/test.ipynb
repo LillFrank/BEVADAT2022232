{
 "cells": [
  {
   "cell_type": "code",
   "execution_count": 20,
   "metadata": {},
   "outputs": [
    {
     "data": {
      "text/plain": [
       "array([1.57191428, 0.53451772, 2.33267176, 1.50275451, 1.60649417,\n",
       "       0.46535795, 1.19153554, 1.71023382, 1.50275451, 1.2952752 ,\n",
       "       1.71023382, 0.43077806, 0.39619818, 0.46535795, 0.46535795,\n",
       "       1.57191428, 1.95229302, 1.2952752 , 1.50275451, 1.88313325,\n",
       "       0.49993783, 1.64107405, 0.49993783, 1.88313325, 2.15977233,\n",
       "       1.74481371, 1.95229302, 1.9868729 , 0.43077806, 0.49993783])"
      ]
     },
     "execution_count": 20,
     "metadata": {},
     "output_type": "execute_result"
    }
   ],
   "source": [
    "import pandas as pd\n",
    "import numpy as np\n",
    "from sklearn.datasets import load_iris\n",
    "from LinearRegressionSkeleton import LinearRegression\n",
    "\n",
    "iris = load_iris()\n",
    "df = pd.DataFrame(iris.data, columns=iris.feature_names)\n",
    "X = df['petal length (cm)'].values #features, .values create numpy array\n",
    "y = df['petal width (cm)'].values\n",
    "\n",
    "LinearRegression().__init__()\n",
    "model = LinearRegression()\n",
    "model.fit(X,y)\n",
    "model.predict(X)\n",
    "\n",
    "\n",
    "\n",
    "#print(\"Mean Absolute Error:\", np.mean(np.abs(y_pred - y_test)))\n"
   ]
  }
 ],
 "metadata": {
  "kernelspec": {
   "display_name": "Python 3",
   "language": "python",
   "name": "python3"
  },
  "language_info": {
   "codemirror_mode": {
    "name": "ipython",
    "version": 3
   },
   "file_extension": ".py",
   "mimetype": "text/x-python",
   "name": "python",
   "nbconvert_exporter": "python",
   "pygments_lexer": "ipython3",
   "version": "3.11.2"
  },
  "orig_nbformat": 4
 },
 "nbformat": 4,
 "nbformat_minor": 2
}
